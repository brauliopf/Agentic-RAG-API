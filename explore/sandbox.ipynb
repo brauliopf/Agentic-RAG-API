{
 "cells": [
  {
   "cell_type": "code",
   "execution_count": 24,
   "metadata": {},
   "outputs": [
    {
     "data": {
      "text/plain": [
       "0"
      ]
     },
     "execution_count": 24,
     "metadata": {},
     "output_type": "execute_result"
    }
   ],
   "source": [
    "import sys\n",
    "import os\n",
    "sys.path.append('..')\n",
    "\n",
    "from pinecone.grpc import PineconeGRPC as Pinecone\n",
    "from app.core.config import settings\n",
    "\n",
    "\n",
    "pc = Pinecone(api_key=settings.pinecone_api_key)\n",
    "\n",
    "# To get the unique host for an index, \n",
    "# see https://docs.pinecone.io/guides/manage-data/target-an-index\n",
    "index = pc.Index(host=\"https://clt-tako-rag-kueduco.svc.aped-4627-b74a.pinecone.io\")\n",
    "\n",
    "# To iterate over all result pages using a generator function\n",
    "all_ids = []\n",
    "for ids in index.list(prefix='test.pdf', namespace=''):\n",
    "    all_ids.append(ids)\n",
    "\n",
    "len(all_ids)"
   ]
  },
  {
   "cell_type": "code",
   "execution_count": 23,
   "metadata": {},
   "outputs": [
    {
     "data": {
      "text/plain": []
     },
     "execution_count": 23,
     "metadata": {},
     "output_type": "execute_result"
    }
   ],
   "source": [
    "index.delete(ids=[item for sublist in all_ids for item in sublist], namespace='')"
   ]
  },
  {
   "cell_type": "code",
   "execution_count": null,
   "metadata": {},
   "outputs": [],
   "source": []
  }
 ],
 "metadata": {
  "kernelspec": {
   "display_name": ".venv",
   "language": "python",
   "name": "python3"
  },
  "language_info": {
   "codemirror_mode": {
    "name": "ipython",
    "version": 3
   },
   "file_extension": ".py",
   "mimetype": "text/x-python",
   "name": "python",
   "nbconvert_exporter": "python",
   "pygments_lexer": "ipython3",
   "version": "3.12.8"
  }
 },
 "nbformat": 4,
 "nbformat_minor": 2
}
